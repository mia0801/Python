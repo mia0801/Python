{
 "cells": [
  {
   "cell_type": "code",
   "execution_count": 1,
   "id": "9948f56c-a0f0-41c5-91b6-6975998eebba",
   "metadata": {},
   "outputs": [],
   "source": [
    "import numpy as np"
   ]
  },
  {
   "cell_type": "code",
   "execution_count": 2,
   "id": "095e5779-dc2a-4595-9b8e-e2a96722c9c2",
   "metadata": {},
   "outputs": [],
   "source": [
    "A = np.array([[3,-9],[2,4]])"
   ]
  },
  {
   "cell_type": "code",
   "execution_count": 3,
   "id": "8957a6f8-cc24-40eb-a789-14d1cfcffdb5",
   "metadata": {},
   "outputs": [
    {
     "name": "stdout",
     "output_type": "stream",
     "text": [
      "[[ 3 -9]\n",
      " [ 2  4]]\n"
     ]
    }
   ],
   "source": [
    "print(A)"
   ]
  },
  {
   "cell_type": "code",
   "execution_count": 4,
   "id": "dfe8ae74-fc04-4e5f-9c05-c1e458b08286",
   "metadata": {},
   "outputs": [],
   "source": [
    "B= np.array([-42,2])"
   ]
  },
  {
   "cell_type": "code",
   "execution_count": 5,
   "id": "c3e15e1a-b39d-4df6-8cac-d7d9ab3f7a0b",
   "metadata": {},
   "outputs": [],
   "source": [
    "Z = np.linalg.solve(A, B)"
   ]
  },
  {
   "cell_type": "code",
   "execution_count": 6,
   "id": "33e94a32-be0d-45fc-9a1e-1b2631dc19fa",
   "metadata": {},
   "outputs": [
    {
     "name": "stdout",
     "output_type": "stream",
     "text": [
      "[-5.  3.]\n"
     ]
    }
   ],
   "source": [
    "print(Z)"
   ]
  },
  {
   "cell_type": "code",
   "execution_count": 7,
   "id": "83c2ebfc-b739-45a7-a14c-7041ca0c4cc1",
   "metadata": {},
   "outputs": [],
   "source": [
    "M=np.array([[1,-2,-1],[2,2,-1],[-1,-1,2]])"
   ]
  },
  {
   "cell_type": "code",
   "execution_count": 8,
   "id": "c2b9cb0f-64bc-49e1-afad-ce32613e24b6",
   "metadata": {},
   "outputs": [
    {
     "name": "stdout",
     "output_type": "stream",
     "text": [
      "[[ 1 -2 -1]\n",
      " [ 2  2 -1]\n",
      " [-1 -1  2]]\n"
     ]
    }
   ],
   "source": [
    "print(M)"
   ]
  },
  {
   "cell_type": "code",
   "execution_count": 9,
   "id": "d873a73b-036e-456b-a909-82887ef5f69f",
   "metadata": {},
   "outputs": [],
   "source": [
    "C=np.array([6,1,1])"
   ]
  },
  {
   "cell_type": "code",
   "execution_count": 10,
   "id": "5b45a74f-43f8-44b6-8776-aba2f0a9a6f4",
   "metadata": {},
   "outputs": [],
   "source": [
    "y=np.linalg.solve(M,C)"
   ]
  },
  {
   "cell_type": "code",
   "execution_count": 12,
   "id": "37965e0e-b4df-47cd-9d55-4a40ecf37297",
   "metadata": {},
   "outputs": [
    {
     "name": "stdout",
     "output_type": "stream",
     "text": [
      "[ 3. -2.  1.]\n"
     ]
    }
   ],
   "source": [
    "print(y)"
   ]
  },
  {
   "cell_type": "code",
   "execution_count": null,
   "id": "a743071a-5d9e-4ade-b187-5a9c3da423bd",
   "metadata": {},
   "outputs": [],
   "source": []
  }
 ],
 "metadata": {
  "kernelspec": {
   "display_name": "Python 3 (ipykernel)",
   "language": "python",
   "name": "python3"
  },
  "language_info": {
   "codemirror_mode": {
    "name": "ipython",
    "version": 3
   },
   "file_extension": ".py",
   "mimetype": "text/x-python",
   "name": "python",
   "nbconvert_exporter": "python",
   "pygments_lexer": "ipython3",
   "version": "3.11.7"
  }
 },
 "nbformat": 4,
 "nbformat_minor": 5
}
