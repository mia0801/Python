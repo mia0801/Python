{
 "cells": [
  {
   "cell_type": "code",
   "execution_count": 13,
   "id": "1039b234-d82d-4f33-bb0c-20e429a6262b",
   "metadata": {},
   "outputs": [],
   "source": [
    "from PIL import Image"
   ]
  },
  {
   "cell_type": "code",
   "execution_count": 14,
   "id": "658e2888-3afe-45d3-a55a-add8df07f014",
   "metadata": {},
   "outputs": [],
   "source": [
    "pic = Image.open(r\"C:\\Users\\joann\\.jupyter\\Karina.jpg\")"
   ]
  },
  {
   "cell_type": "code",
   "execution_count": 15,
   "id": "79e9829a-fdde-4c38-83cd-546a17e0e62d",
   "metadata": {},
   "outputs": [
    {
     "name": "stdout",
     "output_type": "stream",
     "text": [
      "圖片寬度: 2000\n",
      "圖片高度: 3000\n"
     ]
    }
   ],
   "source": [
    "print('圖片寬度:',pic.width)\n",
    "print('圖片高度:',pic.height)"
   ]
  },
  {
   "cell_type": "code",
   "execution_count": 16,
   "id": "caa127c2-5767-4e0d-8d48-44313499eb24",
   "metadata": {},
   "outputs": [
    {
     "name": "stdout",
     "output_type": "stream",
     "text": [
      "圖片檔案格式: JPEG\n",
      "圖片色彩模式: RGB\n",
      "圖片大小: (2000, 3000)\n"
     ]
    }
   ],
   "source": [
    "print('圖片檔案格式:',pic.format)\n",
    "print('圖片色彩模式:',pic.mode)\n",
    "print('圖片大小:',pic.size)"
   ]
  },
  {
   "cell_type": "code",
   "execution_count": 17,
   "id": "a53d6a59-4e43-48f0-945b-628abc6028e3",
   "metadata": {},
   "outputs": [
    {
     "name": "stdout",
     "output_type": "stream",
     "text": [
      "原本的圖片色彩模式: RGB\n",
      "轉換黑白後的的圖片色彩模式: 1\n"
     ]
    }
   ],
   "source": [
    "print('原本的圖片色彩模式:', pic.mode)\n",
    "new_pic=pic.convert('1')\n",
    "new_pic.show()\n",
    "print('轉換黑白後的的圖片色彩模式:', new_pic.mode)"
   ]
  },
  {
   "cell_type": "code",
   "execution_count": 18,
   "id": "a25ba6de-bdde-4a07-a6e1-0dc89dcd830b",
   "metadata": {},
   "outputs": [],
   "source": [
    "new_pic=pic.rotate(30)\n",
    "new_pic.show()"
   ]
  },
  {
   "cell_type": "code",
   "execution_count": 19,
   "id": "52dd1f96-3bd4-4c38-95ee-072ecabf3e41",
   "metadata": {},
   "outputs": [],
   "source": [
    "new_pic2=pic.rotate(-30)\n",
    "new_pic2.show()"
   ]
  },
  {
   "cell_type": "code",
   "execution_count": 20,
   "id": "b218aba5-68a0-4032-9205-28cc61541305",
   "metadata": {},
   "outputs": [],
   "source": [
    "from PIL import Image\n",
    "from PIL import ImageFilter\n",
    "pic = Image.open(r\"C:\\Users\\joann\\.jupyter\\Karina.jpg\")"
   ]
  },
  {
   "cell_type": "code",
   "execution_count": 21,
   "id": "5bb472f0-e27d-43d7-b39a-608fab2e3d5e",
   "metadata": {},
   "outputs": [],
   "source": [
    "new_pic=pic.filter(ImageFilter.CONTOUR)\n",
    "new_pic.save(r\"C:\\Users\\joann\\.jupyter\\Karina2.jpg\")\n",
    "new_pic.show()"
   ]
  },
  {
   "cell_type": "code",
   "execution_count": 22,
   "id": "ada0c78d-0345-45da-a8a8-b24c90d03d69",
   "metadata": {},
   "outputs": [
    {
     "name": "stdout",
     "output_type": "stream",
     "text": [
      "原圖大小: (2000, 3000)\n",
      "縮放後圖形大小: (400, 400)\n"
     ]
    }
   ],
   "source": [
    "print('原圖大小:', pic.size)\n",
    "new_pic=pic.resize((400,400))\n",
    "print('縮放後圖形大小:', new_pic.size)\n",
    "new_pic.save(r\"C:\\Users\\joann\\.jupyter\\Karina3.jpg\")\n",
    "new_pic.show()"
   ]
  },
  {
   "cell_type": "code",
   "execution_count": 23,
   "id": "1c12e269-361f-422e-9c34-309e894475af",
   "metadata": {},
   "outputs": [],
   "source": [
    "from PIL import Image, ImageFont, ImageDraw\n",
    "pic = Image.open(r\"C:\\Users\\joann\\.jupyter\\Karina.jpg\")\n",
    "\n",
    "t_font=ImageFont.truetype(r\"C:\\Users\\joann\\.jupyter\\GenSenRounded-H.ttc\", 200)\n",
    "draw=ImageDraw.Draw(pic)"
   ]
  },
  {
   "cell_type": "code",
   "execution_count": 24,
   "id": "6591fb81-efdc-4943-98f1-57d6c29a92cc",
   "metadata": {},
   "outputs": [],
   "source": [
    "draw.text((40,2270), 'Karina', font=t_font, fill=(255,255,255,255))\n",
    "draw.text((40,2470), 'Best', font=t_font, fill=(255,255,255,255))\n",
    "pic.show()"
   ]
  },
  {
   "cell_type": "code",
   "execution_count": null,
   "id": "d6282d43-b05e-41be-af73-9ba3dfd20147",
   "metadata": {},
   "outputs": [],
   "source": []
  }
 ],
 "metadata": {
  "kernelspec": {
   "display_name": "Python 3 (ipykernel)",
   "language": "python",
   "name": "python3"
  },
  "language_info": {
   "codemirror_mode": {
    "name": "ipython",
    "version": 3
   },
   "file_extension": ".py",
   "mimetype": "text/x-python",
   "name": "python",
   "nbconvert_exporter": "python",
   "pygments_lexer": "ipython3",
   "version": "3.11.7"
  }
 },
 "nbformat": 4,
 "nbformat_minor": 5
}
