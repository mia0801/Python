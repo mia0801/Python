{
 "cells": [
  {
   "cell_type": "code",
   "execution_count": 4,
   "id": "120a3b07-3195-454b-8892-338fdd00a55b",
   "metadata": {},
   "outputs": [],
   "source": [
    "import yfinance as yf\n",
    "import pandas as pd"
   ]
  },
  {
   "cell_type": "code",
   "execution_count": 5,
   "id": "84423ebf-87ac-45e6-9f39-349d1c125313",
   "metadata": {},
   "outputs": [],
   "source": [
    "# start_date='1990-01-01'\n",
    "# end_date='2023-03-03'"
   ]
  },
  {
   "cell_type": "code",
   "execution_count": 6,
   "id": "ff70b59e-8f11-4224-a6c8-e59e25327b3d",
   "metadata": {},
   "outputs": [],
   "source": [
    "ticker='AMZN'"
   ]
  },
  {
   "cell_type": "code",
   "execution_count": 9,
   "id": "4c55c477-aabc-4a5c-9bb4-ffa833e43d17",
   "metadata": {},
   "outputs": [
    {
     "name": "stderr",
     "output_type": "stream",
     "text": [
      "[*********************100%%**********************]  1 of 1 completed\n"
     ]
    }
   ],
   "source": [
    "data=yf.download(ticker,period='10y',interval='1d')"
   ]
  },
  {
   "cell_type": "code",
   "execution_count": 10,
   "id": "84a230f5-2208-48fb-9c69-5b4953461ba0",
   "metadata": {},
   "outputs": [
    {
     "data": {
      "text/html": [
       "<div>\n",
       "<style scoped>\n",
       "    .dataframe tbody tr th:only-of-type {\n",
       "        vertical-align: middle;\n",
       "    }\n",
       "\n",
       "    .dataframe tbody tr th {\n",
       "        vertical-align: top;\n",
       "    }\n",
       "\n",
       "    .dataframe thead th {\n",
       "        text-align: right;\n",
       "    }\n",
       "</style>\n",
       "<table border=\"1\" class=\"dataframe\">\n",
       "  <thead>\n",
       "    <tr style=\"text-align: right;\">\n",
       "      <th></th>\n",
       "      <th>Open</th>\n",
       "      <th>High</th>\n",
       "      <th>Low</th>\n",
       "      <th>Close</th>\n",
       "      <th>Adj Close</th>\n",
       "      <th>Volume</th>\n",
       "    </tr>\n",
       "    <tr>\n",
       "      <th>Date</th>\n",
       "      <th></th>\n",
       "      <th></th>\n",
       "      <th></th>\n",
       "      <th></th>\n",
       "      <th></th>\n",
       "      <th></th>\n",
       "    </tr>\n",
       "  </thead>\n",
       "  <tbody>\n",
       "    <tr>\n",
       "      <th>2014-04-23</th>\n",
       "      <td>16.6530</td>\n",
       "      <td>16.656500</td>\n",
       "      <td>16.169500</td>\n",
       "      <td>16.2290</td>\n",
       "      <td>16.2290</td>\n",
       "      <td>72092000</td>\n",
       "    </tr>\n",
       "    <tr>\n",
       "      <th>2014-04-24</th>\n",
       "      <td>16.4835</td>\n",
       "      <td>16.870001</td>\n",
       "      <td>16.147499</td>\n",
       "      <td>16.8575</td>\n",
       "      <td>16.8575</td>\n",
       "      <td>185874000</td>\n",
       "    </tr>\n",
       "    <tr>\n",
       "      <th>2014-04-25</th>\n",
       "      <td>15.8125</td>\n",
       "      <td>15.824500</td>\n",
       "      <td>15.135500</td>\n",
       "      <td>15.1915</td>\n",
       "      <td>15.1915</td>\n",
       "      <td>323604000</td>\n",
       "    </tr>\n",
       "    <tr>\n",
       "      <th>2014-04-28</th>\n",
       "      <td>15.2000</td>\n",
       "      <td>15.219500</td>\n",
       "      <td>14.400000</td>\n",
       "      <td>14.8290</td>\n",
       "      <td>14.8290</td>\n",
       "      <td>289596000</td>\n",
       "    </tr>\n",
       "    <tr>\n",
       "      <th>2014-04-29</th>\n",
       "      <td>14.8220</td>\n",
       "      <td>15.092000</td>\n",
       "      <td>14.522500</td>\n",
       "      <td>15.0190</td>\n",
       "      <td>15.0190</td>\n",
       "      <td>130186000</td>\n",
       "    </tr>\n",
       "  </tbody>\n",
       "</table>\n",
       "</div>"
      ],
      "text/plain": [
       "               Open       High        Low    Close  Adj Close     Volume\n",
       "Date                                                                    \n",
       "2014-04-23  16.6530  16.656500  16.169500  16.2290    16.2290   72092000\n",
       "2014-04-24  16.4835  16.870001  16.147499  16.8575    16.8575  185874000\n",
       "2014-04-25  15.8125  15.824500  15.135500  15.1915    15.1915  323604000\n",
       "2014-04-28  15.2000  15.219500  14.400000  14.8290    14.8290  289596000\n",
       "2014-04-29  14.8220  15.092000  14.522500  15.0190    15.0190  130186000"
      ]
     },
     "execution_count": 10,
     "metadata": {},
     "output_type": "execute_result"
    }
   ],
   "source": [
    "data.head()"
   ]
  },
  {
   "cell_type": "code",
   "execution_count": null,
   "id": "9307f47b-ac11-4834-9c95-e574a403318f",
   "metadata": {},
   "outputs": [],
   "source": []
  }
 ],
 "metadata": {
  "kernelspec": {
   "display_name": "Python 3 (ipykernel)",
   "language": "python",
   "name": "python3"
  },
  "language_info": {
   "codemirror_mode": {
    "name": "ipython",
    "version": 3
   },
   "file_extension": ".py",
   "mimetype": "text/x-python",
   "name": "python",
   "nbconvert_exporter": "python",
   "pygments_lexer": "ipython3",
   "version": "3.11.7"
  }
 },
 "nbformat": 4,
 "nbformat_minor": 5
}
