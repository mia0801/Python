{
 "cells": [
  {
   "cell_type": "code",
   "execution_count": 1,
   "id": "5eca1d36-7d52-4480-8d09-80d6fca8a1b0",
   "metadata": {},
   "outputs": [
    {
     "name": "stdout",
     "output_type": "stream",
     "text": [
      "Collecting winspeech\n",
      "  Using cached winspeech-1.0.1-py2.py3-none-any.whl.metadata (2.2 kB)\n",
      "Requirement already satisfied: pywin32 in c:\\users\\joann\\anaconda3\\lib\\site-packages (from winspeech) (305.1)\n",
      "Using cached winspeech-1.0.1-py2.py3-none-any.whl (6.9 kB)\n",
      "Installing collected packages: winspeech\n",
      "Successfully installed winspeech-1.0.1\n"
     ]
    }
   ],
   "source": [
    "! pip install winspeech"
   ]
  },
  {
   "cell_type": "code",
   "execution_count": 2,
   "id": "13ae8077-e17d-4cde-bb35-a9820585e5e4",
   "metadata": {},
   "outputs": [
    {
     "name": "stdout",
     "output_type": "stream",
     "text": [
      "Requirement already satisfied: SpeechRecognition in c:\\users\\joann\\anaconda3\\lib\\site-packages (3.10.3)\n",
      "Requirement already satisfied: requests>=2.26.0 in c:\\users\\joann\\anaconda3\\lib\\site-packages (from SpeechRecognition) (2.31.0)\n",
      "Requirement already satisfied: typing-extensions in c:\\users\\joann\\anaconda3\\lib\\site-packages (from SpeechRecognition) (4.9.0)\n",
      "Requirement already satisfied: charset-normalizer<4,>=2 in c:\\users\\joann\\anaconda3\\lib\\site-packages (from requests>=2.26.0->SpeechRecognition) (2.0.4)\n",
      "Requirement already satisfied: idna<4,>=2.5 in c:\\users\\joann\\anaconda3\\lib\\site-packages (from requests>=2.26.0->SpeechRecognition) (3.4)\n",
      "Requirement already satisfied: urllib3<3,>=1.21.1 in c:\\users\\joann\\anaconda3\\lib\\site-packages (from requests>=2.26.0->SpeechRecognition) (2.0.7)\n",
      "Requirement already satisfied: certifi>=2017.4.17 in c:\\users\\joann\\anaconda3\\lib\\site-packages (from requests>=2.26.0->SpeechRecognition) (2024.2.2)\n"
     ]
    }
   ],
   "source": [
    "! pip install SpeechRecognition"
   ]
  },
  {
   "cell_type": "code",
   "execution_count": 3,
   "id": "089c1ce5-b462-437f-9628-88e401f34983",
   "metadata": {},
   "outputs": [
    {
     "name": "stdout",
     "output_type": "stream",
     "text": [
      "Collecting pipwin\n",
      "  Using cached pipwin-0.5.2.tar.gz (7.9 kB)\n",
      "  Preparing metadata (setup.py): started\n",
      "  Preparing metadata (setup.py): finished with status 'done'\n",
      "Collecting docopt (from pipwin)\n",
      "  Using cached docopt-0.6.2.tar.gz (25 kB)\n",
      "  Preparing metadata (setup.py): started\n",
      "  Preparing metadata (setup.py): finished with status 'done'\n",
      "Requirement already satisfied: requests in c:\\users\\joann\\anaconda3\\lib\\site-packages (from pipwin) (2.31.0)\n",
      "Collecting pyprind (from pipwin)\n",
      "  Using cached PyPrind-2.11.3-py2.py3-none-any.whl.metadata (1.1 kB)\n",
      "Requirement already satisfied: six in c:\\users\\joann\\anaconda3\\lib\\site-packages (from pipwin) (1.16.0)\n",
      "Requirement already satisfied: beautifulsoup4>=4.9.0 in c:\\users\\joann\\anaconda3\\lib\\site-packages (from pipwin) (4.12.2)\n",
      "Collecting js2py (from pipwin)\n",
      "  Using cached Js2Py-0.74-py3-none-any.whl.metadata (868 bytes)\n",
      "Requirement already satisfied: packaging in c:\\users\\joann\\anaconda3\\lib\\site-packages (from pipwin) (23.1)\n",
      "Collecting pySmartDL>=1.3.1 (from pipwin)\n",
      "  Using cached pySmartDL-1.3.4-py3-none-any.whl.metadata (2.8 kB)\n",
      "Requirement already satisfied: soupsieve>1.2 in c:\\users\\joann\\anaconda3\\lib\\site-packages (from beautifulsoup4>=4.9.0->pipwin) (2.5)\n",
      "Requirement already satisfied: tzlocal>=1.2 in c:\\users\\joann\\anaconda3\\lib\\site-packages (from js2py->pipwin) (2.1)\n",
      "Collecting pyjsparser>=2.5.1 (from js2py->pipwin)\n",
      "  Using cached pyjsparser-2.7.1.tar.gz (24 kB)\n",
      "  Preparing metadata (setup.py): started\n",
      "  Preparing metadata (setup.py): finished with status 'done'\n",
      "Requirement already satisfied: charset-normalizer<4,>=2 in c:\\users\\joann\\anaconda3\\lib\\site-packages (from requests->pipwin) (2.0.4)\n",
      "Requirement already satisfied: idna<4,>=2.5 in c:\\users\\joann\\anaconda3\\lib\\site-packages (from requests->pipwin) (3.4)\n",
      "Requirement already satisfied: urllib3<3,>=1.21.1 in c:\\users\\joann\\anaconda3\\lib\\site-packages (from requests->pipwin) (2.0.7)\n",
      "Requirement already satisfied: certifi>=2017.4.17 in c:\\users\\joann\\anaconda3\\lib\\site-packages (from requests->pipwin) (2024.2.2)\n",
      "Requirement already satisfied: pytz in c:\\users\\joann\\anaconda3\\lib\\site-packages (from tzlocal>=1.2->js2py->pipwin) (2023.3.post1)\n",
      "Using cached pySmartDL-1.3.4-py3-none-any.whl (20 kB)\n",
      "Using cached Js2Py-0.74-py3-none-any.whl (1.0 MB)\n",
      "Using cached PyPrind-2.11.3-py2.py3-none-any.whl (8.4 kB)\n",
      "Building wheels for collected packages: pipwin, docopt, pyjsparser\n",
      "  Building wheel for pipwin (setup.py): started\n",
      "  Building wheel for pipwin (setup.py): finished with status 'done'\n",
      "  Created wheel for pipwin: filename=pipwin-0.5.2-py2.py3-none-any.whl size=8795 sha256=5d4978554410eaa72fe7040f0fb108363741dce99c943da4299bc00a14ff0dab\n",
      "  Stored in directory: c:\\users\\joann\\appdata\\local\\pip\\cache\\wheels\\07\\45\\2e\\51ee464b7c3407327439df34c2fc62f978a1e5084aaf23d201\n",
      "  Building wheel for docopt (setup.py): started\n",
      "  Building wheel for docopt (setup.py): finished with status 'done'\n",
      "  Created wheel for docopt: filename=docopt-0.6.2-py2.py3-none-any.whl size=13773 sha256=da958c48d1a347ccff01e120a7a44e937635f2a3589625ae7b2785ca165632e8\n",
      "  Stored in directory: c:\\users\\joann\\appdata\\local\\pip\\cache\\wheels\\1a\\b0\\8c\\4b75c4116c31f83c8f9f047231251e13cc74481cca4a78a9ce\n",
      "  Building wheel for pyjsparser (setup.py): started\n",
      "  Building wheel for pyjsparser (setup.py): finished with status 'done'\n",
      "  Created wheel for pyjsparser: filename=pyjsparser-2.7.1-py3-none-any.whl size=25988 sha256=c57a28f10b0f5cb62cfd0b26b8abf09b54f5cc78b508a4f391741a36b5a4cca6\n",
      "  Stored in directory: c:\\users\\joann\\appdata\\local\\pip\\cache\\wheels\\a5\\9a\\30\\1003e89ab4555b81840ca46d361bf184f1e6ad880cae3b62a9\n",
      "Successfully built pipwin docopt pyjsparser\n",
      "Installing collected packages: pySmartDL, pyprind, pyjsparser, docopt, js2py, pipwin\n",
      "Successfully installed docopt-0.6.2 js2py-0.74 pipwin-0.5.2 pySmartDL-1.3.4 pyjsparser-2.7.1 pyprind-2.11.3\n"
     ]
    }
   ],
   "source": [
    "! pip install pipwin"
   ]
  },
  {
   "cell_type": "code",
   "execution_count": 5,
   "id": "f1eee574-f68d-439f-a108-7f36af020bd2",
   "metadata": {},
   "outputs": [
    {
     "name": "stdout",
     "output_type": "stream",
     "text": [
      "Requirement already satisfied: PyAudio in c:\\users\\joann\\anaconda3\\lib\\site-packages (0.2.11)\n"
     ]
    }
   ],
   "source": [
    "! pip install PyAudio"
   ]
  },
  {
   "cell_type": "code",
   "execution_count": 6,
   "id": "d0837124-4ce4-4438-bc50-ecd19886a5f2",
   "metadata": {},
   "outputs": [],
   "source": [
    "import speech_recognition\n",
    "def listenTo():\n",
    "    r=speech_recognition.Recognizer()\n",
    "    with speech_recognition.Microphone() as source:\n",
    "        r.adjust_for_ambient_noise(source)\n",
    "        audio=r.listen(source)\n",
    "    return r.recognize_google(audio, language='zh-TW')"
   ]
  },
  {
   "cell_type": "code",
   "execution_count": 7,
   "id": "3a0aa5a5-0e02-4f59-b533-bc272e3a809d",
   "metadata": {},
   "outputs": [
    {
     "name": "stdout",
     "output_type": "stream",
     "text": [
      "pygame 2.5.2 (SDL 2.28.3, Python 3.11.7)\n",
      "Hello from the pygame community. https://www.pygame.org/contribute.html\n"
     ]
    }
   ],
   "source": [
    "import tempfile\n",
    "from gtts import gTTS\n",
    "from pygame import mixer\n",
    "mixer.init()"
   ]
  },
  {
   "cell_type": "code",
   "execution_count": 8,
   "id": "3febb8dd-8b6d-4171-9399-198d2ff55d5f",
   "metadata": {},
   "outputs": [],
   "source": [
    "def speak(sentence):\n",
    "    with tempfile.NamedTemporaryFile(delete=True) as fp:\n",
    "        tts=gTTS(text=sentence, lang='zh-TW')\n",
    "        tts.save(\"{}.mp3\".format(fp.name))\n",
    "        mixer.music.load('{}.mp3'.format(fp.name))\n",
    "        mixer.music.play()\n",
    "speak('搶票加油')"
   ]
  },
  {
   "cell_type": "code",
   "execution_count": 12,
   "id": "27dce008-7977-4d98-86b5-e5652655ecbc",
   "metadata": {},
   "outputs": [],
   "source": [
    "qa = {'我最喜歡誰':'你最喜歡劉知珉','想不想去看演唱會':'超想去看小帕演唱會','你最喜歡誰':'我最喜歡內永枝利'}\n",
    "speak(qa.get(listenTo(), '聽不懂,再講一次'))"
   ]
  },
  {
   "cell_type": "code",
   "execution_count": null,
   "id": "296b85eb-ea91-4556-aeef-c2b494b5d0e9",
   "metadata": {},
   "outputs": [],
   "source": []
  }
 ],
 "metadata": {
  "kernelspec": {
   "display_name": "Python 3 (ipykernel)",
   "language": "python",
   "name": "python3"
  },
  "language_info": {
   "codemirror_mode": {
    "name": "ipython",
    "version": 3
   },
   "file_extension": ".py",
   "mimetype": "text/x-python",
   "name": "python",
   "nbconvert_exporter": "python",
   "pygments_lexer": "ipython3",
   "version": "3.11.7"
  }
 },
 "nbformat": 4,
 "nbformat_minor": 5
}
